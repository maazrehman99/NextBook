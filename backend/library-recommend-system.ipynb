{
 "cells": [
  {
   "cell_type": "code",
   "execution_count": 13,
   "id": "4a067e84-6bf9-43c7-b278-49a1b6e2eeb7",
   "metadata": {},
   "outputs": [
    {
     "name": "stdout",
     "output_type": "stream",
     "text": [
      "[['Two for the Dough', 'Janet Evanovich', 'http://images.amazon.com/images/P/0671001795.01.MZZZZZZZ.jpg'], ['Snow Falling on Cedars', 'David Guterson', 'http://images.amazon.com/images/P/067976402X.01.MZZZZZZZ.jpg'], ['The Testament', 'John Grisham', 'http://images.amazon.com/images/P/0440234743.01.MZZZZZZZ.jpg'], ['The Color Purple', 'Alice Walker', 'http://images.amazon.com/images/P/0671617028.01.MZZZZZZZ.jpg']]\n"
     ]
    }
   ],
   "source": [
    "import pandas as pd\n",
    "import numpy as np\n",
    "from sklearn.metrics.pairwise import cosine_similarity\n",
    "from difflib import get_close_matches\n",
    "\n",
    "# Load the CSV file\n",
    "df = pd.read_csv('final_model_data.csv')\n",
    "\n",
    "# Perform the group by operation and count the Book-Rating values for each User-ID\n",
    "x = df.groupby('User-ID')['Book-Rating'].count()\n",
    "\n",
    "# Filter users who have more than 120 ratings\n",
    "top_users = x[x > 120].index\n",
    "\n",
    "# Filter the dataframe to include only these top users\n",
    "filtered_rating = df[df['User-ID'].isin(top_users)]\n",
    "\n",
    "# Group by \"Book-Title\" and count the Book-Rating values\n",
    "y = filtered_rating.groupby(\"Book-Title\")['Book-Rating'].count()\n",
    "\n",
    "# Lowering the threshold to identify famous books\n",
    "famous_books_threshold = 10  # Adjust this as needed\n",
    "famous_books = y[y > famous_books_threshold].index\n",
    "\n",
    "# Filter the dataframe to include only these famous books\n",
    "final_rating = filtered_rating[filtered_rating['Book-Title'].isin(famous_books)]\n",
    "\n",
    "# Create the pivot table\n",
    "pt = final_rating.pivot_table(index=\"Book-Title\", columns=\"User-ID\", values=\"Book-Rating\")\n",
    "pt.fillna(0, inplace=True)\n",
    "\n",
    "# Compute the cosine similarity matrix\n",
    "similarity_scores = cosine_similarity(pt)\n",
    "\n",
    "def recommend(book_name):\n",
    "    if book_name in pt.index:\n",
    "        # Fetch recommendations for a book that is in the dataset\n",
    "        index = np.where(pt.index == book_name)[0][0]\n",
    "        similar_items = sorted(list(enumerate(similarity_scores[index])), key=lambda x: x[1], reverse=True)[1:5]\n",
    "    else:\n",
    "        # Handle books not in the dataset\n",
    "        similar_titles = get_close_matches(book_name, pt.index, n=1, cutoff=0.5)\n",
    "        if similar_titles:\n",
    "            # Find the most similar book in the dataset and use its recommendations\n",
    "            index = np.where(pt.index == similar_titles[0])[0][0]\n",
    "            similar_items = sorted(list(enumerate(similarity_scores[index])), key=lambda x: x[1], reverse=True)[1:5]\n",
    "        else:\n",
    "            # Recommend the top 4 books if no close match is found\n",
    "            similar_items = [(i, 0) for i in range(4)]\n",
    "    \n",
    "    data = []\n",
    "    for i in similar_items:\n",
    "        item = []\n",
    "        temp_df = df[df['Book-Title'] == pt.index[i[0]]]\n",
    "        item.extend(list(temp_df.drop_duplicates('Book-Title')['Book-Title'].values))\n",
    "        item.extend(list(temp_df.drop_duplicates('Book-Title')['Book-Author'].values))\n",
    "        item.extend(list(temp_df.drop_duplicates('Book-Title')['Image-URL-M'].values))\n",
    "        \n",
    "        data.append(item)\n",
    "    \n",
    "    return data\n",
    "\n",
    "# Test the function\n",
    "print(recommend('War and Peace'))\n",
    "\n"
   ]
  },
  {
   "cell_type": "code",
   "execution_count": null,
   "id": "b37ea8d1-8438-4e08-9682-58c4359b7aea",
   "metadata": {},
   "outputs": [],
   "source": []
  },
  {
   "cell_type": "code",
   "execution_count": null,
   "id": "54ede051-d117-4762-bd2b-b311b1918c1b",
   "metadata": {},
   "outputs": [],
   "source": []
  }
 ],
 "metadata": {
  "kernelspec": {
   "display_name": "Python 3 (ipykernel)",
   "language": "python",
   "name": "python3"
  },
  "language_info": {
   "codemirror_mode": {
    "name": "ipython",
    "version": 3
   },
   "file_extension": ".py",
   "mimetype": "text/x-python",
   "name": "python",
   "nbconvert_exporter": "python",
   "pygments_lexer": "ipython3",
   "version": "3.12.3"
  }
 },
 "nbformat": 4,
 "nbformat_minor": 5
}
