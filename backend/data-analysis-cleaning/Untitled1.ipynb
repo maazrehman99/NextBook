{
 "cells": [
  {
   "cell_type": "code",
   "execution_count": 4,
   "id": "95f96059-d5de-40f6-ab85-5fe57bfe5dc1",
   "metadata": {},
   "outputs": [
    {
     "name": "stdout",
     "output_type": "stream",
     "text": [
      "Index(['User-ID', 'ISBN', 'Book-Rating'], dtype='object')\n",
      "First Few Rows of Sorted Ratings Data:\n",
      "        User-ID        ISBN  Book-Rating\n",
      "714920   173291  0590460609           10\n",
      "439695   105221  0590353403           10\n",
      "439659   105214  1573220221           10\n",
      "113491    26421  1558743669           10\n",
      "439664   105221  0064407667           10\n"
     ]
    }
   ],
   "source": [
    "import pandas as pd\n",
    "\n",
    "# Read the ratings.csv file\n",
    "ratings = pd.read_csv(\"Ratings.csv\")\n",
    "\n",
    "# Check the column names to find the correct one\n",
    "print(ratings.columns)\n",
    "\n",
    "# Sort the columns based on the \"Book-Rating\" column in descending order\n",
    "ratings_sorted = ratings.sort_values(by='Book-Rating', ascending=False)\n",
    "\n",
    "# Check the first few rows of the sorted DataFrame\n",
    "print(\"First Few Rows of Sorted Ratings Data:\")\n",
    "print(ratings_sorted.head())\n",
    "\n",
    "ratings_sorted.to_csv(\"cleaned-ratings.csv\", index=False)\n",
    "\n",
    "\n"
   ]
  },
  {
   "cell_type": "code",
   "execution_count": 5,
   "id": "28128f22-b177-44a4-be4e-6bcf01442501",
   "metadata": {},
   "outputs": [
    {
     "name": "stdout",
     "output_type": "stream",
     "text": [
      "First Few Rows of Combined Data:\n",
      "   User-ID        ISBN  Book-Rating  \\\n",
      "0   105221  0590353403           10   \n",
      "1   105214  1573220221           10   \n",
      "2    26421  1558743669           10   \n",
      "3   105221  0064407667           10   \n",
      "4   105221  0064407675           10   \n",
      "\n",
      "                                          Book-Title     Book-Author  \\\n",
      "0     Harry Potter and the Sorcerer's Stone (Book 1)   J. K. Rowling   \n",
      "1  The Color of Water: A Black Man's Tribute to H...   James McBride   \n",
      "2  A Child Called \\It\\\": One Child's Courage to S...     Dave Pelzer   \n",
      "3  The Bad Beginning (A Series of Unfortunate Eve...  Lemony Snicket   \n",
      "4  The Reptile Room (A Series of Unfortunate Even...  Lemony Snicket   \n",
      "\n",
      "   Year-Of-Publication              Publisher  \\\n",
      "0                 1998             Scholastic   \n",
      "1                 1996        Riverhead Books   \n",
      "2                 1995  Health Communications   \n",
      "3                 1999          HarperCollins   \n",
      "4                 1999          HarperCollins   \n",
      "\n",
      "                                         Image-URL-S  \\\n",
      "0  http://images.amazon.com/images/P/0590353403.0...   \n",
      "1  http://images.amazon.com/images/P/1573220221.0...   \n",
      "2  http://images.amazon.com/images/P/1558743669.0...   \n",
      "3  http://images.amazon.com/images/P/0064407667.0...   \n",
      "4  http://images.amazon.com/images/P/0064407675.0...   \n",
      "\n",
      "                                         Image-URL-M  \\\n",
      "0  http://images.amazon.com/images/P/0590353403.0...   \n",
      "1  http://images.amazon.com/images/P/1573220221.0...   \n",
      "2  http://images.amazon.com/images/P/1558743669.0...   \n",
      "3  http://images.amazon.com/images/P/0064407667.0...   \n",
      "4  http://images.amazon.com/images/P/0064407675.0...   \n",
      "\n",
      "                                         Image-URL-L  \n",
      "0  http://images.amazon.com/images/P/0590353403.0...  \n",
      "1  http://images.amazon.com/images/P/1573220221.0...  \n",
      "2  http://images.amazon.com/images/P/1558743669.0...  \n",
      "3  http://images.amazon.com/images/P/0064407667.0...  \n",
      "4  http://images.amazon.com/images/P/0064407675.0...  \n"
     ]
    }
   ],
   "source": [
    "import pandas as pd\n",
    "\n",
    "# Read the cleaned ratings data\n",
    "ratings = pd.read_csv(\"cleaned-ratings.csv\")\n",
    "\n",
    "# Read the final cleaned books data\n",
    "books = pd.read_csv(\"final_bookss_cleaned_data.csv\")\n",
    "\n",
    "# Merge the dataframes based on the common column ISBN\n",
    "combined_data = pd.merge(ratings, books, on='ISBN')\n",
    "\n",
    "# Save the combined data to a new CSV file\n",
    "\n",
    "\n",
    "# Display the first few rows of the combined data\n",
    "print(\"First Few Rows of Combined Data:\")\n",
    "print(combined_data.head())\n"
   ]
  },
  {
   "cell_type": "code",
   "execution_count": 8,
   "id": "1d388db6-92df-411f-a8f7-d8ddd91b8e25",
   "metadata": {},
   "outputs": [
    {
     "name": "stdout",
     "output_type": "stream",
     "text": [
      "   User-ID        ISBN  Book-Rating  \\\n",
      "0   105221  0590353403           10   \n",
      "1   105214  1573220221           10   \n",
      "2    26421  1558743669           10   \n",
      "3   105221  0064407667           10   \n",
      "4   105221  0064407675           10   \n",
      "\n",
      "                                          Book-Title     Book-Author  \\\n",
      "0     Harry Potter and the Sorcerer's Stone (Book 1)   J. K. Rowling   \n",
      "1  The Color of Water: A Black Man's Tribute to H...   James McBride   \n",
      "2  A Child Called \\It\\\": One Child's Courage to S...     Dave Pelzer   \n",
      "3  The Bad Beginning (A Series of Unfortunate Eve...  Lemony Snicket   \n",
      "4  The Reptile Room (A Series of Unfortunate Even...  Lemony Snicket   \n",
      "\n",
      "   Year-Of-Publication              Publisher  \\\n",
      "0                 1998             Scholastic   \n",
      "1                 1996        Riverhead Books   \n",
      "2                 1995  Health Communications   \n",
      "3                 1999          HarperCollins   \n",
      "4                 1999          HarperCollins   \n",
      "\n",
      "                                         Image-URL-S  \\\n",
      "0  http://images.amazon.com/images/P/0590353403.0...   \n",
      "1  http://images.amazon.com/images/P/1573220221.0...   \n",
      "2  http://images.amazon.com/images/P/1558743669.0...   \n",
      "3  http://images.amazon.com/images/P/0064407667.0...   \n",
      "4  http://images.amazon.com/images/P/0064407675.0...   \n",
      "\n",
      "                                         Image-URL-M  \\\n",
      "0  http://images.amazon.com/images/P/0590353403.0...   \n",
      "1  http://images.amazon.com/images/P/1573220221.0...   \n",
      "2  http://images.amazon.com/images/P/1558743669.0...   \n",
      "3  http://images.amazon.com/images/P/0064407667.0...   \n",
      "4  http://images.amazon.com/images/P/0064407675.0...   \n",
      "\n",
      "                                         Image-URL-L  \n",
      "0  http://images.amazon.com/images/P/0590353403.0...  \n",
      "1  http://images.amazon.com/images/P/1573220221.0...  \n",
      "2  http://images.amazon.com/images/P/1558743669.0...  \n",
      "3  http://images.amazon.com/images/P/0064407667.0...  \n",
      "4  http://images.amazon.com/images/P/0064407675.0...  \n"
     ]
    }
   ],
   "source": [
    "combined_data = combined_data.dropna(axis=0)\n",
    "\n",
    "# Remove columns with null values\n",
    "combined_data = combined_data.dropna(axis=1)\n",
    "print(combined_data.head())\n",
    "combined_data.to_csv(\"combined_data_cleaned.csv\", index=False)"
   ]
  },
  {
   "cell_type": "code",
   "execution_count": 9,
   "id": "d6816ee9-a621-44c8-8b72-89dfa84feac6",
   "metadata": {},
   "outputs": [
    {
     "name": "stdout",
     "output_type": "stream",
     "text": [
      "First Few Rows of Cleaned Users Data:\n",
      "    User-ID                        Location   Age\n",
      "1         2       stockton, california, usa  18.0\n",
      "3         4       porto, v.n.gaia, portugal  17.0\n",
      "5         6   santa monica, california, usa  61.0\n",
      "9        10      albacete, wisconsin, spain  26.0\n",
      "10       11  melbourne, victoria, australia  14.0\n"
     ]
    }
   ],
   "source": [
    "import pandas as pd\n",
    "\n",
    "# Read the users.csv file\n",
    "users = pd.read_csv(\"users.csv\")\n",
    "\n",
    "# Remove rows with null values\n",
    "users_cleaned_rows = users.dropna(axis=0)\n",
    "\n",
    "# Remove columns with null values\n",
    "users_cleaned_columns = users_cleaned_rows.dropna(axis=1)\n",
    "\n",
    "# Save the cleaned users data to a new CSV file\n",
    "users_cleaned_columns.to_csv(\"cleaned_users.csv\", index=False)\n",
    "\n",
    "# Display the first few rows of the cleaned users data\n",
    "print(\"First Few Rows of Cleaned Users Data:\")\n",
    "print(users_cleaned_columns.head())\n"
   ]
  },
  {
   "cell_type": "code",
   "execution_count": 10,
   "id": "6009a3b8-d357-44d6-aee8-173508dd402e",
   "metadata": {},
   "outputs": [
    {
     "name": "stdout",
     "output_type": "stream",
     "text": [
      "Sorted Users Data:\n",
      "        User-ID                                Location    Age\n",
      "97941    162240                  buffalo, new york, usa    0.0\n",
      "78395    130116  lower templestowe, victoria, australia    0.0\n",
      "81940    135954            powder springs, georgia, usa    0.0\n",
      "125146   207491                 manassas, virginia, usa    0.0\n",
      "114475   189925          san francisco, california, usa    0.0\n",
      "...         ...                                     ...    ...\n",
      "5282       8458                milano, lombardia, italy  230.0\n",
      "949        1579            akure, ondo/nigeria, nigeria  231.0\n",
      "35097     58286                      midvale, utah, usa  237.0\n",
      "5491       8782                calgary, alberta, canada  239.0\n",
      "12880     20857  stuttgart, baden-wuerttemberg, germany  244.0\n",
      "\n",
      "[168096 rows x 3 columns]\n"
     ]
    }
   ],
   "source": [
    "import pandas as pd\n",
    "\n",
    "# Read the cleaned users data\n",
    "users_cleaned = pd.read_csv(\"cleaned_users.csv\")\n",
    "\n",
    "# Sort the DataFrame based on the \"Age\" column in ascending order\n",
    "users_sorted = users_cleaned.sort_values(by='Age', ascending=True)\n",
    "\n",
    "# Save the sorted data to a new CSV file\n",
    "users_sorted.to_csv(\"sorted_users.csv\", index=False)\n",
    "\n",
    "# Display the sorted DataFrame\n",
    "print(\"Sorted Users Data:\")\n",
    "print(users_sorted)\n"
   ]
  },
  {
   "cell_type": "code",
   "execution_count": 14,
   "id": "467ddae2-9d21-41f5-a33d-24da837b96bc",
   "metadata": {},
   "outputs": [
    {
     "name": "stdout",
     "output_type": "stream",
     "text": [
      "Filtered Users Data (Age Range 8 to 90):\n",
      "     User-ID                          Location  Age\n",
      "466    12015               wien, wien, austria  5.0\n",
      "467   183914  steralia, mainland, austbritania  5.0\n",
      "468   169759            como, lombardia, italy  5.0\n",
      "469   256045          las rozas, madrid, spain  5.0\n",
      "470   272480     amora, estremadura,, portugal  5.0\n"
     ]
    }
   ],
   "source": [
    "import pandas as pd\n",
    "\n",
    "# Read the cleaned users data\n",
    "users_cleaned = pd.read_csv(\"users_final.csv\")\n",
    "\n",
    "# Filter the \"Age\" column to include values in the range 8 to 90\n",
    "users_filtered = users_cleaned[(users_cleaned['Age'] >= 5) & (users_cleaned['Age'] <= 90)]\n",
    "\n",
    "# Save the filtered data to a new CSV file\n",
    "users_filtered.to_csv(\"users_final.csv\", index=False)\n",
    "\n",
    "# Display the first few rows of the filtered DataFrame\n",
    "print(\"Filtered Users Data (Age Range 8 to 90):\")\n",
    "print(users_filtered.head())\n",
    "\n"
   ]
  },
  {
   "cell_type": "code",
   "execution_count": 18,
   "id": "b9698b2a-d22c-43f3-8bce-5458b23b958b",
   "metadata": {},
   "outputs": [
    {
     "name": "stdout",
     "output_type": "stream",
     "text": [
      "First Few Rows of Sorted and Filtered Combined Data:\n",
      "        User-ID                     Location   Age        ISBN  Book-Rating  \\\n",
      "219059   213249  minneapolis, minnesota, usa  29.0  0679766529           10   \n",
      "62696    220931      danville, illinois, usa  23.0  0345338588           10   \n",
      "517570   240870        biddeford, maine, usa  43.0  1588250059           10   \n",
      "517571   240870        biddeford, maine, usa  43.0  0525945571           10   \n",
      "517574   240570   dunbar, west virginia, usa  43.0  043935806X           10   \n",
      "\n",
      "                                               Book-Title        Book-Author  \\\n",
      "219059  Edwin Mullhouse: The Life and Death of an Amer...  Steven Millhauser   \n",
      "62696   On a Pale Horse (Incarnations of Immortality, ...      Piers Anthony   \n",
      "517570  A Dozen Ways to Sunday: Stories of Hope and Co...    Montel Williams   \n",
      "517571  Help Yourself: Celebrating the Rewards of Resi...    David J. Pelzer   \n",
      "517574  Harry Potter and the Order of the Phoenix (Boo...      J. K. Rowling   \n",
      "\n",
      "        Year-Of-Publication              Publisher  \\\n",
      "219059                 1996      Vintage Books USA   \n",
      "62696                  1989          Del Rey Books   \n",
      "517570                 2001  Mountain Movers Press   \n",
      "517571                 2000           Dutton Books   \n",
      "517574                 2003             Scholastic   \n",
      "\n",
      "                                              Image-URL-S  \\\n",
      "219059  http://images.amazon.com/images/P/0679766529.0...   \n",
      "62696   http://images.amazon.com/images/P/0345338588.0...   \n",
      "517570  http://images.amazon.com/images/P/1588250059.0...   \n",
      "517571  http://images.amazon.com/images/P/0525945571.0...   \n",
      "517574  http://images.amazon.com/images/P/043935806X.0...   \n",
      "\n",
      "                                              Image-URL-M  \\\n",
      "219059  http://images.amazon.com/images/P/0679766529.0...   \n",
      "62696   http://images.amazon.com/images/P/0345338588.0...   \n",
      "517570  http://images.amazon.com/images/P/1588250059.0...   \n",
      "517571  http://images.amazon.com/images/P/0525945571.0...   \n",
      "517574  http://images.amazon.com/images/P/043935806X.0...   \n",
      "\n",
      "                                              Image-URL-L  \n",
      "219059  http://images.amazon.com/images/P/0679766529.0...  \n",
      "62696   http://images.amazon.com/images/P/0345338588.0...  \n",
      "517570  http://images.amazon.com/images/P/1588250059.0...  \n",
      "517571  http://images.amazon.com/images/P/0525945571.0...  \n",
      "517574  http://images.amazon.com/images/P/043935806X.0...  \n"
     ]
    }
   ],
   "source": [
    "import pandas as pd\n",
    "\n",
    "# Read the combined data\n",
    "combined_data = pd.read_csv(\"merged_data.csv\")\n",
    "\n",
    "# Sort the DataFrame based on the \"Book-Ratings\" column\n",
    "combined_data_sorted = combined_data.sort_values(by='Book-Rating', ascending=False)\n",
    "\n",
    "# Remove rows with zero values\n",
    "combined_data_filtered_rows = combined_data_sorted[(combined_data_sorted != 0).all(axis=1)]\n",
    "\n",
    "# Remove columns with zero values\n",
    "combined_data_filtered = combined_data_filtered_rows.loc[:, (combined_data_filtered_rows != 0).any(axis=0)]\n",
    "\n",
    "# Save the filtered data to a new CSV file\n",
    "combined_data_filtered.to_csv(\"final_model_data.csv\", index=False)\n",
    "\n",
    "# Display the first few rows of the filtered DataFrame\n",
    "print(\"First Few Rows of Sorted and Filtered Combined Data:\")\n",
    "print(combined_data_filtered.head())\n",
    "\n"
   ]
  },
  {
   "cell_type": "code",
   "execution_count": null,
   "id": "122ed1e5-8406-4c10-8018-a782e04af6a4",
   "metadata": {},
   "outputs": [],
   "source": []
  }
 ],
 "metadata": {
  "kernelspec": {
   "display_name": "Python 3 (ipykernel)",
   "language": "python",
   "name": "python3"
  },
  "language_info": {
   "codemirror_mode": {
    "name": "ipython",
    "version": 3
   },
   "file_extension": ".py",
   "mimetype": "text/x-python",
   "name": "python",
   "nbconvert_exporter": "python",
   "pygments_lexer": "ipython3",
   "version": "3.12.3"
  }
 },
 "nbformat": 4,
 "nbformat_minor": 5
}
